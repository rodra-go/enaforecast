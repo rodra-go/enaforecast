{
 "cells": [
  {
   "cell_type": "code",
   "execution_count": 1,
   "id": "af0b7f16",
   "metadata": {},
   "outputs": [
    {
     "name": "stdout",
     "output_type": "stream",
     "text": [
      "2021-12-09 12:44:31,269 - kedro.io.data_catalog - INFO - Loading data from `ena-diario-parana` (CSVDataSet)...\n"
     ]
    },
    {
     "data": {
      "text/html": [
       "<div>\n",
       "<style scoped>\n",
       "    .dataframe tbody tr th:only-of-type {\n",
       "        vertical-align: middle;\n",
       "    }\n",
       "\n",
       "    .dataframe tbody tr th {\n",
       "        vertical-align: top;\n",
       "    }\n",
       "\n",
       "    .dataframe thead th {\n",
       "        text-align: right;\n",
       "    }\n",
       "</style>\n",
       "<table border=\"1\" class=\"dataframe\">\n",
       "  <thead>\n",
       "    <tr style=\"text-align: right;\">\n",
       "      <th></th>\n",
       "      <th>nom_bacia</th>\n",
       "      <th>ena_bruta_bacia_mwmed</th>\n",
       "      <th>ena_bruta_bacia_percentualmlt</th>\n",
       "      <th>ena_armazenavel_bacia_mwmed</th>\n",
       "      <th>ena_armazenavel_bacia_percentualmlt</th>\n",
       "    </tr>\n",
       "    <tr>\n",
       "      <th>ena_data</th>\n",
       "      <th></th>\n",
       "      <th></th>\n",
       "      <th></th>\n",
       "      <th></th>\n",
       "      <th></th>\n",
       "    </tr>\n",
       "  </thead>\n",
       "  <tbody>\n",
       "    <tr>\n",
       "      <th>2000-01-01</th>\n",
       "      <td>PARANA</td>\n",
       "      <td>12073.358398</td>\n",
       "      <td>58.836899</td>\n",
       "      <td>12073.358398</td>\n",
       "      <td>58.836899</td>\n",
       "    </tr>\n",
       "    <tr>\n",
       "      <th>2000-01-02</th>\n",
       "      <td>PARANA</td>\n",
       "      <td>12579.799805</td>\n",
       "      <td>61.305000</td>\n",
       "      <td>12579.799805</td>\n",
       "      <td>61.305000</td>\n",
       "    </tr>\n",
       "    <tr>\n",
       "      <th>2000-01-03</th>\n",
       "      <td>PARANA</td>\n",
       "      <td>13393.181641</td>\n",
       "      <td>65.268799</td>\n",
       "      <td>13393.181641</td>\n",
       "      <td>65.268799</td>\n",
       "    </tr>\n",
       "    <tr>\n",
       "      <th>2000-01-04</th>\n",
       "      <td>PARANA</td>\n",
       "      <td>14473.228516</td>\n",
       "      <td>70.532204</td>\n",
       "      <td>14473.228516</td>\n",
       "      <td>70.532204</td>\n",
       "    </tr>\n",
       "    <tr>\n",
       "      <th>2000-01-05</th>\n",
       "      <td>PARANA</td>\n",
       "      <td>15750.317383</td>\n",
       "      <td>76.755798</td>\n",
       "      <td>15750.317383</td>\n",
       "      <td>76.755798</td>\n",
       "    </tr>\n",
       "  </tbody>\n",
       "</table>\n",
       "</div>"
      ],
      "text/plain": [
       "           nom_bacia  ena_bruta_bacia_mwmed  ena_bruta_bacia_percentualmlt  \\\n",
       "ena_data                                                                     \n",
       "2000-01-01    PARANA           12073.358398                      58.836899   \n",
       "2000-01-02    PARANA           12579.799805                      61.305000   \n",
       "2000-01-03    PARANA           13393.181641                      65.268799   \n",
       "2000-01-04    PARANA           14473.228516                      70.532204   \n",
       "2000-01-05    PARANA           15750.317383                      76.755798   \n",
       "\n",
       "            ena_armazenavel_bacia_mwmed  ena_armazenavel_bacia_percentualmlt  \n",
       "ena_data                                                                      \n",
       "2000-01-01                 12073.358398                            58.836899  \n",
       "2000-01-02                 12579.799805                            61.305000  \n",
       "2000-01-03                 13393.181641                            65.268799  \n",
       "2000-01-04                 14473.228516                            70.532204  \n",
       "2000-01-05                 15750.317383                            76.755798  "
      ]
     },
     "execution_count": 1,
     "metadata": {},
     "output_type": "execute_result"
    }
   ],
   "source": [
    "data = catalog.load(\"ena-diario-parana\")\n",
    "data.head()"
   ]
  },
  {
   "cell_type": "markdown",
   "id": "24277276",
   "metadata": {},
   "source": [
    "# Generate Windows"
   ]
  },
  {
   "cell_type": "code",
   "execution_count": 16,
   "id": "451c589a",
   "metadata": {},
   "outputs": [],
   "source": [
    "import pandas as pd\n",
    "\n",
    "def generate_windows(df, window_size, shift):\n",
    "    N = len(data)\n",
    "    n = N//window_size\n",
    "    \n",
    "    df = df.reset_index()\n",
    "    \n",
    "    windows = []\n",
    "\n",
    "    k = 0\n",
    "    window_id = 1\n",
    "    while (N-k-window_size) >= 0:\n",
    "        window = df[['ena_data','ena_bruta_bacia_mwmed']].iloc[(N-k-window_size):(N-k)].reset_index()\n",
    "        window['window_id'] = window_id\n",
    "        window['window_index'] = range(0,window_size)\n",
    "        window.set_index('ena_data',inplace=True)\n",
    "        \n",
    "        piv = window.pivot(index='window_id', columns='window_index', values=\"ena_bruta_bacia_mwmed\")\n",
    "        piv['from_date'] = min(window.index.date)\n",
    "        piv['to_date'] = max(window.index.date)\n",
    "        \n",
    "        windows.append(piv)\n",
    "        \n",
    "        k = k + shift\n",
    "        window_id += 1\n",
    "        \n",
    "    return pd.concat(windows)"
   ]
  },
  {
   "cell_type": "code",
   "execution_count": 18,
   "id": "3f3d4e7c",
   "metadata": {},
   "outputs": [],
   "source": [
    "input_width = 128\n",
    "target_width = 15\n",
    "\n",
    "window_size = input_width + target_width\n",
    "shift = 1\n",
    "\n",
    "windows = generate_windows(data, window_size, shift)"
   ]
  },
  {
   "cell_type": "markdown",
   "id": "d113bb9b",
   "metadata": {},
   "source": [
    "# Split data"
   ]
  },
  {
   "cell_type": "code",
   "execution_count": 75,
   "id": "87634a8b",
   "metadata": {},
   "outputs": [],
   "source": [
    "def split_data(data, split = [.7,.1,.2]):\n",
    "\n",
    "    N = len(data)\n",
    "\n",
    "    n_valid = int(split[1]*N) \n",
    "    n_test  = int(split[2]*N)\n",
    "    n_train = N - n_valid - n_test\n",
    "\n",
    "    train = data[:n_train]\n",
    "    valid = data[n_train:n_train+n_valid]\n",
    "    test = data[n_train+n_valid:n_train+n_valid+n_test]\n",
    "    \n",
    "    return train, valid, test\n"
   ]
  },
  {
   "cell_type": "code",
   "execution_count": 76,
   "id": "a4df7d29",
   "metadata": {},
   "outputs": [],
   "source": [
    "train, valid, test = split_data(windows)"
   ]
  },
  {
   "cell_type": "code",
   "execution_count": 213,
   "id": "7eaec4a2",
   "metadata": {},
   "outputs": [],
   "source": [
    "def split_xy(data, input_width):\n",
    "    ts_values = data.drop(['from_date','to_date'], axis=1)\n",
    "    \n",
    "    x_col = ts_values.columns[:input_width]\n",
    "    y_col = ts_values.columns[input_width:]\n",
    "    \n",
    "    return ts_values[x_col], ts_values[y_col]"
   ]
  },
  {
   "cell_type": "code",
   "execution_count": 82,
   "id": "bd1c3657",
   "metadata": {},
   "outputs": [],
   "source": [
    "train_x, train_y = split_xy(train, input_width)\n",
    "valid_x, valid_y = split_xy(valid, input_width)\n",
    "test_x, test_y = split_xy(test, input_width)"
   ]
  },
  {
   "cell_type": "markdown",
   "id": "e4e5e405",
   "metadata": {},
   "source": [
    "# Normalizing data"
   ]
  },
  {
   "cell_type": "markdown",
   "id": "6864c837",
   "metadata": {},
   "source": [
    "Calculate sample average and standard deviation for z-score"
   ]
  },
  {
   "cell_type": "code",
   "execution_count": 45,
   "id": "f4507da5",
   "metadata": {},
   "outputs": [
    {
     "name": "stdout",
     "output_type": "stream",
     "text": [
      "Train Average: 15713.496003778675\n",
      "Train SD: 7605.160823433812\n"
     ]
    }
   ],
   "source": [
    "# Remove last columns with datetime\n",
    "ts_data = train.values[:,:-2]\n",
    "\n",
    "\n",
    "train_avg = ts_data.reshape(1,ts_data.shape[0]*ts_data.shape[1]).mean()\n",
    "train_std = ts_data.reshape(1,ts_data.shape[0]*ts_data.shape[1]).std()\n",
    "\n",
    "print(\"Train Average: {}\".format(train_avg))\n",
    "print(\"Train SD: {}\".format(train_std))"
   ]
  },
  {
   "cell_type": "markdown",
   "id": "9dd88ac3",
   "metadata": {},
   "source": [
    "Calculate Z-score"
   ]
  },
  {
   "cell_type": "code",
   "execution_count": 88,
   "id": "51dcd31f",
   "metadata": {},
   "outputs": [],
   "source": [
    "def zscore(data, avg, std):\n",
    "    \n",
    "    scaled = data.sub(avg)\n",
    "    scaled = scaled.divide(std)\n",
    "    \n",
    "    return scaled"
   ]
  },
  {
   "cell_type": "code",
   "execution_count": 195,
   "id": "0b6448bc",
   "metadata": {},
   "outputs": [],
   "source": [
    "scaled_train_x = zscore(train_x, train_avg, train_std)\n",
    "scaled_train_y = zscore(train_y, train_avg, train_std)\n",
    "scaled_valid_x = zscore(valid_x, train_avg, train_std)\n",
    "scaled_valid_y = zscore(valid_y, train_avg, train_std)\n",
    "scaled_test_x  = zscore(test_x, train_avg, train_std)\n",
    "scaled_test_y  = zscore(test_y, train_avg, train_std)"
   ]
  },
  {
   "cell_type": "code",
   "execution_count": 153,
   "id": "d4abcf8a",
   "metadata": {},
   "outputs": [
    {
     "data": {
      "text/plain": [
       "<matplotlib.lines.Line2D at 0x7f82c7fc7160>"
      ]
     },
     "execution_count": 153,
     "metadata": {},
     "output_type": "execute_result"
    },
    {
     "data": {
      "image/png": "[encoded data removed]",
      "text/plain": [
       "<Figure size 432x288 with 1 Axes>"
      ]
     },
     "metadata": {
      "needs_background": "light"
     },
     "output_type": "display_data"
    }
   ],
   "source": [
    "import numpy as np\n",
    "import matplotlib.pyplot as plt\n",
    "\n",
    "window_id = 251\n",
    "\n",
    "plt.plot(np.concatenate([scaled_train_x.iloc[window_id].values,scaled_train_y.iloc[window_id].values]))\n",
    "plt.axvline(x=128, color='r')"
   ]
  },
  {
   "cell_type": "markdown",
   "id": "439b3e15",
   "metadata": {},
   "source": [
    "# Extracting Features"
   ]
  },
  {
   "cell_type": "code",
   "execution_count": 210,
   "id": "6aad1e43",
   "metadata": {},
   "outputs": [],
   "source": [
    "def extract_features(ts, wavelet, include_ts = True):\n",
    "    \n",
    "    level = int(np.log(len(ts)))\n",
    "    if include_ts is True:\n",
    "        features = ts\n",
    "    else:\n",
    "        features = np.array([])\n",
    "        \n",
    "    cA = ts\n",
    "    for l in range(1,level+1):\n",
    "        cA, cD = pywt.dwt(cA, wavelet)\n",
    "        \n",
    "        features = np.concatenate([features,cD])\n",
    "        \n",
    "    features = np.concatenate([features,cA])\n",
    "    \n",
    "    return features"
   ]
  },
  {
   "cell_type": "code",
   "execution_count": 208,
   "id": "afc35685",
   "metadata": {},
   "outputs": [
    {
     "name": "stdout",
     "output_type": "stream",
     "text": [
      "CPU times: user 2 s, sys: 46.8 ms, total: 2.05 s\n",
      "Wall time: 2.09 s\n"
     ]
    }
   ],
   "source": [
    "%%time\n",
    "\n",
    "scaled_train_x = zscore(train_x, train_avg, train_std)\n",
    "scaled_train_y = zscore(train_y, train_avg, train_std)\n",
    "scaled_valid_x = zscore(valid_x, train_avg, train_std)\n",
    "scaled_valid_y = zscore(valid_y, train_avg, train_std)\n",
    "scaled_test_x  = zscore(test_x, train_avg, train_std)\n",
    "scaled_test_y  = zscore(test_y, train_avg, train_std)\n",
    "\n",
    "scaled_train_x = scaled_train_x.apply(lambda x: extract_features(x), axis=1, result_type='expand')\n",
    "scaled_valid_x = scaled_valid_x.apply(lambda x: extract_features(x), axis=1, result_type='expand')\n",
    "scaled_test_x  = scaled_test_x.apply(lambda x: extract_features(x), axis=1, result_type='expand')"
   ]
  },
  {
   "cell_type": "code",
   "execution_count": 209,
   "id": "7779e759",
   "metadata": {},
   "outputs": [
    {
     "data": {
      "text/plain": [
       "[<matplotlib.lines.Line2D at 0x7f82c50848e0>]"
      ]
     },
     "execution_count": 209,
     "metadata": {},
     "output_type": "execute_result"
    },
    {
     "data": {
      "image/png": "[encoded data removed]",
      "text/plain": [
       "<Figure size 432x288 with 1 Axes>"
      ]
     },
     "metadata": {
      "needs_background": "light"
     },
     "output_type": "display_data"
    }
   ],
   "source": [
    "plt.plot(scaled_train_x.values[300])"
   ]
  },
  {
   "cell_type": "markdown",
   "id": "8adc0bb4",
   "metadata": {},
   "source": [
    "# Creating a generalized function"
   ]
  },
  {
   "cell_type": "markdown",
   "id": "aa1bb87a",
   "metadata": {},
   "source": [
    "Required functions from above"
   ]
  },
  {
   "cell_type": "code",
   "execution_count": 215,
   "id": "ea6309c1",
   "metadata": {},
   "outputs": [],
   "source": [
    "import pywt\n",
    "import pandas as pd\n",
    "import numpy as np\n",
    "\n",
    "\n",
    "def generate_windows(df, window_size, shift):\n",
    "    N = len(data)\n",
    "    n = N//window_size\n",
    "    \n",
    "    df = df.reset_index()\n",
    "    \n",
    "    windows = []\n",
    "\n",
    "    k = 0\n",
    "    window_id = 1\n",
    "    while (N-k-window_size) >= 0:\n",
    "        window = df[['ena_data','ena_bruta_bacia_mwmed']].iloc[(N-k-window_size):(N-k)].reset_index()\n",
    "        window['window_id'] = window_id\n",
    "        window['window_index'] = range(0,window_size)\n",
    "        window.set_index('ena_data',inplace=True)\n",
    "        \n",
    "        piv = window.pivot(index='window_id', columns='window_index', values=\"ena_bruta_bacia_mwmed\")\n",
    "        piv['from_date'] = min(window.index.date)\n",
    "        piv['to_date'] = max(window.index.date)\n",
    "        \n",
    "        windows.append(piv)\n",
    "        \n",
    "        k = k + shift\n",
    "        window_id += 1\n",
    "        \n",
    "    return pd.concat(windows)\n",
    "\n",
    "\n",
    "def split_data(data, split = [.7,.1,.2]):\n",
    "\n",
    "    N = len(data)\n",
    "\n",
    "    n_valid = int(split[1]*N) \n",
    "    n_test  = int(split[2]*N)\n",
    "    n_train = N - n_valid - n_test\n",
    "\n",
    "    train = data[:n_train]\n",
    "    valid = data[n_train:n_train+n_valid]\n",
    "    test = data[n_train+n_valid:n_train+n_valid+n_test]\n",
    "    \n",
    "    return train, valid, test\n",
    "\n",
    "\n",
    "def split_xy(data, input_width):\n",
    "    ts_values = data.drop(['from_date','to_date'], axis=1)\n",
    "    \n",
    "    x_col = ts_values.columns[:input_width]\n",
    "    y_col = ts_values.columns[input_width:]\n",
    "    \n",
    "    return ts_values[x_col], ts_values[y_col]\n",
    "\n",
    "\n",
    "def zscore(data, avg, std):\n",
    "    \n",
    "    scaled = data.sub(avg)\n",
    "    scaled = scaled.divide(std)\n",
    "    \n",
    "    return scaled\n",
    "\n",
    "def extract_features(ts, wavelet, include_ts = True):\n",
    "    \n",
    "    level = int(np.log(len(ts)))\n",
    "    if include_ts is True:\n",
    "        features = ts\n",
    "    else:\n",
    "        features = np.array([])\n",
    "        \n",
    "    cA = ts\n",
    "    for l in range(1,level+1):\n",
    "        cA, cD = pywt.dwt(cA, wavelet)\n",
    "        \n",
    "        features = np.concatenate([features,cD])\n",
    "        \n",
    "    features = np.concatenate([features,cA])\n",
    "    \n",
    "    return features"
   ]
  },
  {
   "cell_type": "markdown",
   "id": "1b9145bc",
   "metadata": {},
   "source": [
    "Generalized function"
   ]
  },
  {
   "cell_type": "code",
   "execution_count": 224,
   "id": "f60165a8",
   "metadata": {},
   "outputs": [],
   "source": [
    "def generate_training_data(data, input_width, target_width, wavelet, include_ts, shift, split):\n",
    "    \n",
    "    # Generate Windows\n",
    "    window_size = input_width + target_width\n",
    "    windows = generate_windows(data, window_size, shift)\n",
    "    \n",
    "    # Split training data\n",
    "    train, valid, test = split_data(windows, split)\n",
    "    \n",
    "    # Split X and Y\n",
    "    train_x, train_y = split_xy(train, input_width)\n",
    "    valid_x, valid_y = split_xy(valid, input_width)\n",
    "    test_x, test_y = split_xy(test, input_width)\n",
    "    \n",
    "    # Scale Data with Training Dataset\n",
    "    ts_data = train.values[:,:-2] # Remove last columns with datetime\n",
    "\n",
    "    train_avg = ts_data.reshape(1,ts_data.shape[0]*ts_data.shape[1]).mean()\n",
    "    train_std = ts_data.reshape(1,ts_data.shape[0]*ts_data.shape[1]).std()\n",
    "    \n",
    "    scaled_train_x = zscore(train_x, train_avg, train_std)\n",
    "    scaled_train_y = zscore(train_y, train_avg, train_std)\n",
    "    scaled_valid_x = zscore(valid_x, train_avg, train_std)\n",
    "    scaled_valid_y = zscore(valid_y, train_avg, train_std)\n",
    "    scaled_test_x  = zscore(test_x, train_avg, train_std)\n",
    "    scaled_test_y  = zscore(test_y, train_avg, train_std)\n",
    "    \n",
    "    \n",
    "    # Extract Features\n",
    "    def get_dwt(x):    \n",
    "        return extract_features(x, wavelet, include_ts)\n",
    "    \n",
    "    if wavelet == None:\n",
    "        return (scaled_train_x, scaled_valid_x, scaled_test_x,\n",
    "                scaled_train_y, scaled_valid_y, scaled_test_y)\n",
    "    else:\n",
    "        dwt_scaled_train_x = scaled_train_x.apply(lambda x: get_dwt(x), axis=1, result_type='expand')\n",
    "        dwt_scaled_valid_x = scaled_valid_x.apply(lambda x: get_dwt(x), axis=1, result_type='expand')\n",
    "        dwt_scaled_test_x  = scaled_test_x.apply(lambda x: get_dwt(x), axis=1, result_type='expand')\n",
    "    \n",
    "        return (dwt_scaled_train_x, dwt_scaled_valid_x, dwt_scaled_test_x,\n",
    "                scaled_train_y, scaled_valid_y, scaled_test_y)"
   ]
  },
  {
   "cell_type": "code",
   "execution_count": 252,
   "id": "279eaaf9",
   "metadata": {},
   "outputs": [
    {
     "name": "stdout",
     "output_type": "stream",
     "text": [
      "2021-12-09 15:47:28,387 - kedro.io.data_catalog - INFO - Loading data from `ena-diario-parana` (CSVDataSet)...\n"
     ]
    }
   ],
   "source": [
    "# Training data generation parameters\n",
    "\n",
    "data         = catalog.load(\"ena-diario-parana\")\n",
    "input_width  = 128\n",
    "target_width = 15 \n",
    "wavelet      = 'db8'\n",
    "include_ts   = True\n",
    "shift        = 1\n",
    "split        = [.7, .1, .2]"
   ]
  },
  {
   "cell_type": "code",
   "execution_count": 253,
   "id": "29dde67f",
   "metadata": {},
   "outputs": [
    {
     "name": "stdout",
     "output_type": "stream",
     "text": [
      "CPU times: user 1min 26s, sys: 322 ms, total: 1min 27s\n",
      "Wall time: 1min 28s\n"
     ]
    }
   ],
   "source": [
    "%%time\n",
    "\n",
    "X_train, X_valid, X_test, Y_train, Y_valid, Y_test = generate_training_data(\n",
    "    data, input_width, target_width, wavelet, include_ts, shift, split\n",
    ")"
   ]
  },
  {
   "cell_type": "code",
   "execution_count": 248,
   "id": "a23eac0d",
   "metadata": {},
   "outputs": [
    {
     "data": {
      "text/plain": [
       "<matplotlib.lines.Line2D at 0x7f82c5ca5310>"
      ]
     },
     "execution_count": 248,
     "metadata": {},
     "output_type": "execute_result"
    },
    {
     "data": {
      "image/png": "[encoded data removed]",
      "text/plain": [
       "<Figure size 432x288 with 1 Axes>"
      ]
     },
     "metadata": {
      "needs_background": "light"
     },
     "output_type": "display_data"
    }
   ],
   "source": [
    "window_id = 1000\n",
    "\n",
    "plt.plot(np.concatenate([X_test.values[window_id], Y_test.values[window_id]]))\n",
    "horizon = len(X_test.values[window_id])\n",
    "plt.axvline(x=horizon, color='r')"
   ]
  },
  {
   "cell_type": "code",
   "execution_count": 251,
   "id": "d198abd0",
   "metadata": {},
   "outputs": [
    {
     "data": {
      "text/plain": [
       "<matplotlib.lines.Line2D at 0x7f82c5a2db50>"
      ]
     },
     "execution_count": 251,
     "metadata": {},
     "output_type": "execute_result"
    },
    {
     "data": {
      "image/png": "[encoded data removed]",
      "text/plain": [
       "<Figure size 432x288 with 1 Axes>"
      ]
     },
     "metadata": {
      "needs_background": "light"
     },
     "output_type": "display_data"
    }
   ],
   "source": [
    "window_id = 1000\n",
    "\n",
    "plt.plot(np.concatenate([X_test.values[window_id], Y_test.values[window_id]]))\n",
    "horizon = len(X_test.values[window_id])\n",
    "plt.axvline(x=horizon, color='r')"
   ]
  },
  {
   "cell_type": "code",
   "execution_count": 256,
   "id": "c5a5bbed",
   "metadata": {},
   "outputs": [
    {
     "data": {
      "text/plain": [
       "<matplotlib.lines.Line2D at 0x7f82c365fac0>"
      ]
     },
     "execution_count": 256,
     "metadata": {},
     "output_type": "execute_result"
    },
    {
     "data": {
      "image/png": "[encoded data removed]",
      "text/plain": [
       "<Figure size 432x288 with 1 Axes>"
      ]
     },
     "metadata": {
      "needs_background": "light"
     },
     "output_type": "display_data"
    }
   ],
   "source": [
    "window_id = 1000\n",
    "\n",
    "plt.plot(np.concatenate([X_test.values[window_id], Y_test.values[window_id]]))\n",
    "horizon = len(X_test.values[window_id])\n",
    "plt.axvline(x=horizon, color='r')"
   ]
  }
 ],
 "metadata": {
  "kernelspec": {
   "display_name": "enaforecast",
   "language": "python",
   "name": "python3"
  },
  "language_info": {
   "codemirror_mode": {
    "name": "ipython",
    "version": 3
   },
   "file_extension": ".py",
   "mimetype": "text/x-python",
   "name": "python",
   "nbconvert_exporter": "python",
   "pygments_lexer": "ipython3",
   "version": "3.8.5"
  }
 },
 "nbformat": 4,
 "nbformat_minor": 5
}
