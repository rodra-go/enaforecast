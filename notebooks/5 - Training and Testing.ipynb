{
 "cells": [
  {
   "cell_type": "markdown",
   "id": "89cbe16c",
   "metadata": {},
   "source": [
    "# Prepare Training Data"
   ]
  },
  {
   "cell_type": "code",
   "execution_count": 8,
   "id": "31bdfe29",
   "metadata": {},
   "outputs": [],
   "source": [
    "import pywt\n",
    "import pandas as pd\n",
    "import numpy as np\n",
    "\n",
    "\n",
    "def generate_windows(df, window_size, shift):\n",
    "    N = len(data)\n",
    "    \n",
    "    df = df.reset_index()\n",
    "    \n",
    "    windows = []\n",
    "\n",
    "    k = 0\n",
    "    window_id = 1\n",
    "    while (N-k-window_size) >= 0:\n",
    "        window = df[['ena_data','ena_bruta_bacia_mwmed']].iloc[(N-k-window_size):(N-k)].reset_index()\n",
    "        window['window_id'] = window_id\n",
    "        window['window_index'] = range(0,window_size)\n",
    "        window.set_index('ena_data',inplace=True)\n",
    "        \n",
    "        piv = window.pivot(index='window_id', columns='window_index', values=\"ena_bruta_bacia_mwmed\")\n",
    "        piv['from_date'] = min(window.index.date)\n",
    "        piv['to_date'] = max(window.index.date)\n",
    "        \n",
    "        windows.append(piv)\n",
    "        \n",
    "        k = k + shift\n",
    "        window_id += 1\n",
    "        \n",
    "    return pd.concat(windows)\n",
    "\n",
    "\n",
    "def split_data(data, split = [.7,.1,.2]):\n",
    "\n",
    "    N = len(data)\n",
    "\n",
    "    n_valid = int(split[1]*N) \n",
    "    n_test  = int(split[2]*N)\n",
    "    n_train = N - n_valid - n_test\n",
    "\n",
    "    train = data[:n_train]\n",
    "    valid = data[n_train:n_train+n_valid]\n",
    "    test = data[n_train+n_valid:n_train+n_valid+n_test]\n",
    "    \n",
    "    return train, valid, test\n",
    "\n",
    "\n",
    "def split_xy(data, input_width):\n",
    "    ts_values = data.drop(['from_date','to_date'], axis=1)\n",
    "    \n",
    "    x_col = ts_values.columns[:input_width]\n",
    "    y_col = ts_values.columns[input_width:]\n",
    "    \n",
    "    return ts_values[x_col], ts_values[y_col]\n",
    "\n",
    "\n",
    "def zscore(data, avg, std):\n",
    "    \n",
    "    scaled = data.sub(avg)\n",
    "    scaled = scaled.divide(std)\n",
    "    \n",
    "    return scaled\n",
    "\n",
    "def extract_features(ts, wavelet, include_ts = True):\n",
    "    \n",
    "    level = int(np.log(len(ts)))\n",
    "    if include_ts is True:\n",
    "        features = ts\n",
    "    else:\n",
    "        features = np.array([])\n",
    "        \n",
    "    cA = ts\n",
    "    for l in range(1,level+1):\n",
    "        cA, cD = pywt.dwt(cA, wavelet)\n",
    "        \n",
    "        features = np.concatenate([features,cD])\n",
    "        \n",
    "    features = np.concatenate([features,cA])\n",
    "    \n",
    "    return features"
   ]
  },
  {
   "cell_type": "code",
   "execution_count": 53,
   "id": "b54ed80e",
   "metadata": {},
   "outputs": [],
   "source": [
    "def generate_training_data(data, input_width, target_width, wavelet, include_ts, shift, split):\n",
    "    \n",
    "    # Generate Windows\n",
    "    print(\"Generating windows...\")\n",
    "    window_size = input_width + target_width\n",
    "    windows = generate_windows(data, window_size, shift)\n",
    "    \n",
    "    # Split training data\n",
    "    print(\"Spliting data into training, validation and testing datasets...\")\n",
    "    train, valid, test = split_data(windows, split)\n",
    "    \n",
    "    # Split X and Y\n",
    "    print(\"Spliting model inputs and outputs (X and Y)\")\n",
    "    train_x, train_y = split_xy(train, input_width)\n",
    "    valid_x, valid_y = split_xy(valid, input_width)\n",
    "    test_x, test_y = split_xy(test, input_width)\n",
    "    \n",
    "    # Scale Data with Training Dataset\n",
    "    print(\"Calculate average and standard deviation for training dataset...\")\n",
    "    ts_data = train.values[:,:-2] # Remove last columns with datetime\n",
    "\n",
    "    train_avg = ts_data.reshape(1,ts_data.shape[0]*ts_data.shape[1]).mean()\n",
    "    train_std = ts_data.reshape(1,ts_data.shape[0]*ts_data.shape[1]).std()\n",
    "    print(\"Training dataset average: {}\".format(round(train_avg,2)))\n",
    "    print(\"Training dataset standard deviation: {}\".format(round(train_std,2)))\n",
    "\n",
    "    print(\"Scaling training, validation and testing datasets using z-score...\")\n",
    "    scaled_train_x = zscore(train_x, train_avg, train_std)\n",
    "    scaled_train_y = zscore(train_y, train_avg, train_std)\n",
    "    scaled_valid_x = zscore(valid_x, train_avg, train_std)\n",
    "    scaled_valid_y = zscore(valid_y, train_avg, train_std)\n",
    "    scaled_test_x  = zscore(test_x, train_avg, train_std)\n",
    "    scaled_test_y  = zscore(test_y, train_avg, train_std)\n",
    "    \n",
    "    \n",
    "    # Extract Features\n",
    "    def get_dwt(x):    \n",
    "        return extract_features(x, wavelet, include_ts)\n",
    "    \n",
    "    if wavelet == None:\n",
    "        print(\"Returning values without DWT transformation.\")\n",
    "        return (scaled_train_x, scaled_valid_x, scaled_test_x,\n",
    "                scaled_train_y, scaled_valid_y, scaled_test_y, train_avg, train_std)\n",
    "    else:\n",
    "        print(\"Returning values with DWT transformation with {} wavelet.\".format(wavelet))\n",
    "        dwt_scaled_train_x = scaled_train_x.apply(lambda x: get_dwt(x), axis=1, result_type='expand')\n",
    "        dwt_scaled_valid_x = scaled_valid_x.apply(lambda x: get_dwt(x), axis=1, result_type='expand')\n",
    "        dwt_scaled_test_x  = scaled_test_x.apply(lambda x: get_dwt(x), axis=1, result_type='expand')\n",
    "    \n",
    "        return (dwt_scaled_train_x, dwt_scaled_valid_x, dwt_scaled_test_x,\n",
    "                scaled_train_y, scaled_valid_y, scaled_test_y, train_avg, train_std)"
   ]
  },
  {
   "cell_type": "markdown",
   "id": "5c2e55d1",
   "metadata": {},
   "source": [
    "# 1. MLP only"
   ]
  },
  {
   "cell_type": "code",
   "execution_count": 54,
   "id": "ccc41199",
   "metadata": {},
   "outputs": [
    {
     "name": "stdout",
     "output_type": "stream",
     "text": [
      "2021-12-14 12:19:52,580 - kedro.io.data_catalog - INFO - Loading data from `ena-diario-parana` (CSVDataSet)...\n"
     ]
    }
   ],
   "source": [
    "# Training data generation parameters\n",
    "\n",
    "data         = catalog.load(\"ena-diario-parana\")\n",
    "input_width  = 128\n",
    "target_width = 15 \n",
    "wavelet      = None\n",
    "include_ts   = True\n",
    "shift        = 1\n",
    "split        = [.8, .1, .1]"
   ]
  },
  {
   "cell_type": "code",
   "execution_count": 55,
   "id": "350a1edb",
   "metadata": {},
   "outputs": [
    {
     "name": "stdout",
     "output_type": "stream",
     "text": [
      "Generating windows...\n",
      "Spliting data into training, validation and testing datasets...\n",
      "Spliting model inputs and outputs (X and Y)\n",
      "Calculate average and standard deviation for training dataset...\n",
      "Training dataset average: 16144.77\n",
      "Training dataset standard deviation: 7689.77\n",
      "Scaling training, validation and testing datasets using z-score...\n",
      "Returning values without DWT transformation.\n",
      "CPU times: user 1min 2s, sys: 208 ms, total: 1min 2s\n",
      "Wall time: 1min 3s\n"
     ]
    }
   ],
   "source": [
    "%%time\n",
    "\n",
    "X_train, X_valid, X_test, Y_train, Y_valid, Y_test, train_avg, train_std = generate_training_data(\n",
    "    data, input_width, target_width, wavelet, include_ts, shift, split\n",
    ")"
   ]
  },
  {
   "cell_type": "markdown",
   "id": "c121c474",
   "metadata": {},
   "source": [
    "## 1.1. Compile MLP Model"
   ]
  },
  {
   "cell_type": "code",
   "execution_count": 56,
   "id": "88146337",
   "metadata": {},
   "outputs": [],
   "source": [
    "from tensorflow import keras\n",
    "from tensorflow.keras import layers\n",
    "from tensorflow.keras.optimizers import Adam\n",
    "from tensorflow.keras.metrics import (RootMeanSquaredError,\n",
    "                                      MeanAbsoluteError,\n",
    "                                      MeanSquaredError,\n",
    "                                      MeanAbsolutePercentageError)"
   ]
  },
  {
   "cell_type": "code",
   "execution_count": 61,
   "id": "acf92c0b",
   "metadata": {},
   "outputs": [],
   "source": [
    "input_dim = len(X_train.columns) # Number of points in X samples\n",
    "output_dim = 15 # Number of points in Y samples\n",
    "layer_1 = 800 # Number of neurons on first layer\n",
    "layer_2 = 600 # Number of neurons on second layer\n",
    "lr = 0.0000001 # MLP learning rate\n",
    "metrics = ['rmse','mae','mse','mape']"
   ]
  },
  {
   "cell_type": "code",
   "execution_count": 62,
   "id": "a2784e1c",
   "metadata": {},
   "outputs": [],
   "source": [
    "def create_model(input_dim, output_dim, layer_1, layer_2, lr, metrics):\n",
    "    \n",
    "    def parse_metrics(metrics):\n",
    "        metric_objs = []\n",
    "        if 'rmse' in metrics:\n",
    "            metric_objs.append(RootMeanSquaredError())\n",
    "        if 'mae' in metrics:\n",
    "            metric_objs.append(MeanAbsoluteError())\n",
    "        if 'mse' in metrics:\n",
    "            metric_objs.append(MeanSquaredError())\n",
    "        if 'mape' in metrics:\n",
    "            metric_objs.append(MeanAbsolutePercentageError())\n",
    "        return metric_objs\n",
    "    \n",
    "    metric_objs = parse_metrics(metrics)\n",
    "\n",
    "    model = keras.Sequential([\n",
    "        layers.Dense(\n",
    "            layer_1,\n",
    "            input_dim=input_dim,\n",
    "            activation='relu',\n",
    "        ),\n",
    "        layers.Dense(\n",
    "            layer_2,\n",
    "            activation='relu',\n",
    "        ),\n",
    "        layers.Dense(output_dim),\n",
    "    ])\n",
    "\n",
    "    model.compile(\n",
    "        optimizer=Adam(lr),\n",
    "        loss='mse',\n",
    "        metrics=metric_objs,\n",
    "    )\n",
    "    \n",
    "    return model\n"
   ]
  },
  {
   "cell_type": "code",
   "execution_count": 63,
   "id": "e0896d6a",
   "metadata": {},
   "outputs": [],
   "source": [
    "model = create_model(input_dim, output_dim, layer_1, layer_2, lr, metrics)"
   ]
  },
  {
   "cell_type": "markdown",
   "id": "62453b85",
   "metadata": {},
   "source": [
    "## 1.2. Training the model"
   ]
  },
  {
   "cell_type": "code",
   "execution_count": 64,
   "id": "e44f647a",
   "metadata": {},
   "outputs": [],
   "source": [
    "import os\n",
    "from tensorflow.keras.callbacks import TensorBoard\n",
    "\n",
    "def train_model(model,\n",
    "        X_train, Y_train,\n",
    "        X_valid, Y_valid,\n",
    "        epochs,\n",
    "        tensorboard_log_dir,\n",
    "        train_index,\n",
    "        tensorboard_hist_freq=1):\n",
    "    \n",
    "    # Callback\n",
    "    \n",
    "    folder_name = 'MLP_train_index_{}'.format(str(train_index))\n",
    "    log_dir = os.path.join(tensorboard_log_dir, folder_name)\n",
    "\n",
    "    if not os.path.exists(log_dir):\n",
    "        os.makedirs(log_dir)\n",
    "    tensorboard_cbk = TensorBoard(log_dir=log_dir,\n",
    "        histogram_freq=tensorboard_hist_freq\n",
    "    )\n",
    "\n",
    "    history = model.fit(\n",
    "        x=X_train,\n",
    "        y=Y_train,\n",
    "        validation_data=(X_valid, Y_valid),\n",
    "        epochs=epochs,\n",
    "        verbose=1,\n",
    "        callbacks=tensorboard_cbk,\n",
    "    )\n",
    "    \n",
    "    return model, history\n",
    "\n",
    "    "
   ]
  },
  {
   "cell_type": "code",
   "execution_count": 66,
   "id": "141bc087",
   "metadata": {},
   "outputs": [],
   "source": [
    "epochs = 20\n",
    "tensorboard_log_dir = '/usr/src/code/data/tensorboard'\n",
    "train_index = 'final_only_mlp_20_epochs'"
   ]
  },
  {
   "cell_type": "code",
   "execution_count": 67,
   "id": "faecea65",
   "metadata": {},
   "outputs": [
    {
     "name": "stdout",
     "output_type": "stream",
     "text": [
      "Epoch 1/20\n",
      "194/197 [============================>.] - ETA: 0s - loss: 1.1366 - root_mean_squared_error: 1.0661 - mean_absolute_error: 0.8258 - mean_squared_error: 1.1366 - mean_absolute_percentage_error: 343.0264"
     ]
    },
    {
     "name": "stderr",
     "output_type": "stream",
     "text": [
      "2021-12-14 12:25:58.230792: W tensorflow/core/framework/cpu_allocator_impl.cc:82] Allocation of 24576000 exceeds 10% of free system memory.\n",
      "2021-12-14 12:25:58.483847: W tensorflow/core/framework/cpu_allocator_impl.cc:82] Allocation of 115200000 exceeds 10% of free system memory.\n"
     ]
    },
    {
     "name": "stdout",
     "output_type": "stream",
     "text": [
      "197/197 [==============================] - 5s 16ms/step - loss: 1.1346 - root_mean_squared_error: 1.0652 - mean_absolute_error: 0.8249 - mean_squared_error: 1.1346 - mean_absolute_percentage_error: 341.2604 - val_loss: 1.1103 - val_root_mean_squared_error: 1.0537 - val_mean_absolute_error: 0.8258 - val_mean_squared_error: 1.1103 - val_mean_absolute_percentage_error: 236.1627\n",
      "Epoch 2/20\n",
      "197/197 [==============================] - 2s 10ms/step - loss: 1.1172 - root_mean_squared_error: 1.0570 - mean_absolute_error: 0.8182 - mean_squared_error: 1.1172 - mean_absolute_percentage_error: 334.4645 - val_loss: 1.0968 - val_root_mean_squared_error: 1.0473 - val_mean_absolute_error: 0.8202 - val_mean_squared_error: 1.0968 - val_mean_absolute_percentage_error: 232.8645\n"
     ]
    },
    {
     "name": "stderr",
     "output_type": "stream",
     "text": [
      "2021-12-14 12:26:00.590181: W tensorflow/core/framework/cpu_allocator_impl.cc:82] Allocation of 24576000 exceeds 10% of free system memory.\n",
      "2021-12-14 12:26:00.626769: W tensorflow/core/framework/cpu_allocator_impl.cc:82] Allocation of 115200000 exceeds 10% of free system memory.\n"
     ]
    },
    {
     "name": "stdout",
     "output_type": "stream",
     "text": [
      "Epoch 3/20\n",
      "193/197 [============================>.] - ETA: 0s - loss: 1.1038 - root_mean_squared_error: 1.0506 - mean_absolute_error: 0.8124 - mean_squared_error: 1.1038 - mean_absolute_percentage_error: 328.0553"
     ]
    },
    {
     "name": "stderr",
     "output_type": "stream",
     "text": [
      "2021-12-14 12:26:03.205847: W tensorflow/core/framework/cpu_allocator_impl.cc:82] Allocation of 24576000 exceeds 10% of free system memory.\n"
     ]
    },
    {
     "name": "stdout",
     "output_type": "stream",
     "text": [
      "197/197 [==============================] - 3s 14ms/step - loss: 1.1003 - root_mean_squared_error: 1.0489 - mean_absolute_error: 0.8116 - mean_squared_error: 1.1003 - mean_absolute_percentage_error: 327.8383 - val_loss: 1.0836 - val_root_mean_squared_error: 1.0410 - val_mean_absolute_error: 0.8147 - val_mean_squared_error: 1.0836 - val_mean_absolute_percentage_error: 229.6405\n",
      "Epoch 4/20\n",
      "197/197 [==============================] - 3s 15ms/step - loss: 1.0838 - root_mean_squared_error: 1.0410 - mean_absolute_error: 0.8051 - mean_squared_error: 1.0838 - mean_absolute_percentage_error: 322.1277 - val_loss: 1.0709 - val_root_mean_squared_error: 1.0349 - val_mean_absolute_error: 0.8093 - val_mean_squared_error: 1.0709 - val_mean_absolute_percentage_error: 226.5801\n",
      "Epoch 5/20\n",
      "197/197 [==============================] - 2s 11ms/step - loss: 1.0677 - root_mean_squared_error: 1.0333 - mean_absolute_error: 0.7988 - mean_squared_error: 1.0677 - mean_absolute_percentage_error: 315.6465 - val_loss: 1.0585 - val_root_mean_squared_error: 1.0288 - val_mean_absolute_error: 0.8040 - val_mean_squared_error: 1.0585 - val_mean_absolute_percentage_error: 223.6167\n",
      "Epoch 6/20\n",
      "197/197 [==============================] - 2s 12ms/step - loss: 1.0520 - root_mean_squared_error: 1.0257 - mean_absolute_error: 0.7925 - mean_squared_error: 1.0520 - mean_absolute_percentage_error: 310.0440 - val_loss: 1.0464 - val_root_mean_squared_error: 1.0229 - val_mean_absolute_error: 0.7988 - val_mean_squared_error: 1.0464 - val_mean_absolute_percentage_error: 220.7240\n",
      "Epoch 7/20\n",
      "197/197 [==============================] - 3s 14ms/step - loss: 1.0367 - root_mean_squared_error: 1.0182 - mean_absolute_error: 0.7864 - mean_squared_error: 1.0367 - mean_absolute_percentage_error: 304.3098 - val_loss: 1.0346 - val_root_mean_squared_error: 1.0171 - val_mean_absolute_error: 0.7937 - val_mean_squared_error: 1.0346 - val_mean_absolute_percentage_error: 217.9269\n",
      "Epoch 8/20\n",
      "197/197 [==============================] - 3s 15ms/step - loss: 1.0217 - root_mean_squared_error: 1.0108 - mean_absolute_error: 0.7803 - mean_squared_error: 1.0217 - mean_absolute_percentage_error: 299.2162 - val_loss: 1.0231 - val_root_mean_squared_error: 1.0115 - val_mean_absolute_error: 0.7887 - val_mean_squared_error: 1.0231 - val_mean_absolute_percentage_error: 215.2066\n",
      "Epoch 9/20\n",
      "197/197 [==============================] - 2s 13ms/step - loss: 1.0071 - root_mean_squared_error: 1.0035 - mean_absolute_error: 0.7743 - mean_squared_error: 1.0071 - mean_absolute_percentage_error: 293.9134 - val_loss: 1.0118 - val_root_mean_squared_error: 1.0059 - val_mean_absolute_error: 0.7837 - val_mean_squared_error: 1.0118 - val_mean_absolute_percentage_error: 212.5644\n",
      "Epoch 10/20\n",
      "197/197 [==============================] - 2s 10ms/step - loss: 0.9928 - root_mean_squared_error: 0.9964 - mean_absolute_error: 0.7684 - mean_squared_error: 0.9928 - mean_absolute_percentage_error: 289.1312 - val_loss: 1.0010 - val_root_mean_squared_error: 1.0005 - val_mean_absolute_error: 0.7789 - val_mean_squared_error: 1.0010 - val_mean_absolute_percentage_error: 210.0184\n",
      "Epoch 11/20\n",
      "197/197 [==============================] - 2s 12ms/step - loss: 0.9788 - root_mean_squared_error: 0.9893 - mean_absolute_error: 0.7626 - mean_squared_error: 0.9788 - mean_absolute_percentage_error: 284.5336 - val_loss: 0.9903 - val_root_mean_squared_error: 0.9951 - val_mean_absolute_error: 0.7741 - val_mean_squared_error: 0.9903 - val_mean_absolute_percentage_error: 207.5869\n",
      "Epoch 12/20\n",
      "197/197 [==============================] - 2s 11ms/step - loss: 0.9651 - root_mean_squared_error: 0.9824 - mean_absolute_error: 0.7569 - mean_squared_error: 0.9651 - mean_absolute_percentage_error: 280.8627 - val_loss: 0.9798 - val_root_mean_squared_error: 0.9899 - val_mean_absolute_error: 0.7693 - val_mean_squared_error: 0.9798 - val_mean_absolute_percentage_error: 205.2952\n",
      "Epoch 13/20\n",
      "197/197 [==============================] - 2s 11ms/step - loss: 0.9517 - root_mean_squared_error: 0.9756 - mean_absolute_error: 0.7513 - mean_squared_error: 0.9517 - mean_absolute_percentage_error: 277.1136 - val_loss: 0.9698 - val_root_mean_squared_error: 0.9848 - val_mean_absolute_error: 0.7647 - val_mean_squared_error: 0.9698 - val_mean_absolute_percentage_error: 203.1649\n",
      "Epoch 14/20\n",
      "197/197 [==============================] - 2s 9ms/step - loss: 0.9386 - root_mean_squared_error: 0.9688 - mean_absolute_error: 0.7457 - mean_squared_error: 0.9386 - mean_absolute_percentage_error: 273.6865 - val_loss: 0.9598 - val_root_mean_squared_error: 0.9797 - val_mean_absolute_error: 0.7601 - val_mean_squared_error: 0.9598 - val_mean_absolute_percentage_error: 201.1553\n",
      "Epoch 15/20\n",
      "197/197 [==============================] - 3s 14ms/step - loss: 0.9258 - root_mean_squared_error: 0.9622 - mean_absolute_error: 0.7403 - mean_squared_error: 0.9258 - mean_absolute_percentage_error: 270.6109 - val_loss: 0.9501 - val_root_mean_squared_error: 0.9747 - val_mean_absolute_error: 0.7556 - val_mean_squared_error: 0.9501 - val_mean_absolute_percentage_error: 199.1778\n",
      "Epoch 16/20\n",
      "197/197 [==============================] - 4s 19ms/step - loss: 0.9133 - root_mean_squared_error: 0.9556 - mean_absolute_error: 0.7349 - mean_squared_error: 0.9133 - mean_absolute_percentage_error: 267.3619 - val_loss: 0.9406 - val_root_mean_squared_error: 0.9698 - val_mean_absolute_error: 0.7511 - val_mean_squared_error: 0.9406 - val_mean_absolute_percentage_error: 197.3527\n",
      "Epoch 17/20\n",
      "197/197 [==============================] - 4s 22ms/step - loss: 0.9010 - root_mean_squared_error: 0.9492 - mean_absolute_error: 0.7295 - mean_squared_error: 0.9010 - mean_absolute_percentage_error: 264.4329 - val_loss: 0.9313 - val_root_mean_squared_error: 0.9650 - val_mean_absolute_error: 0.7467 - val_mean_squared_error: 0.9313 - val_mean_absolute_percentage_error: 195.7531\n",
      "Epoch 18/20\n",
      "197/197 [==============================] - 4s 22ms/step - loss: 0.8889 - root_mean_squared_error: 0.9428 - mean_absolute_error: 0.7243 - mean_squared_error: 0.8889 - mean_absolute_percentage_error: 261.8752 - val_loss: 0.9222 - val_root_mean_squared_error: 0.9603 - val_mean_absolute_error: 0.7424 - val_mean_squared_error: 0.9222 - val_mean_absolute_percentage_error: 194.2588\n",
      "Epoch 19/20\n",
      "197/197 [==============================] - 4s 23ms/step - loss: 0.8771 - root_mean_squared_error: 0.9365 - mean_absolute_error: 0.7191 - mean_squared_error: 0.8771 - mean_absolute_percentage_error: 259.2257 - val_loss: 0.9133 - val_root_mean_squared_error: 0.9557 - val_mean_absolute_error: 0.7381 - val_mean_squared_error: 0.9133 - val_mean_absolute_percentage_error: 193.0310\n",
      "Epoch 20/20\n",
      "197/197 [==============================] - 3s 17ms/step - loss: 0.8656 - root_mean_squared_error: 0.9304 - mean_absolute_error: 0.7140 - mean_squared_error: 0.8656 - mean_absolute_percentage_error: 257.1477 - val_loss: 0.9046 - val_root_mean_squared_error: 0.9511 - val_mean_absolute_error: 0.7339 - val_mean_squared_error: 0.9046 - val_mean_absolute_percentage_error: 191.9319\n",
      "CPU times: user 1min 12s, sys: 7.07 s, total: 1min 19s\n",
      "Wall time: 1min 24s\n"
     ]
    }
   ],
   "source": [
    "%%time\n",
    "\n",
    "trained_model, history = train_model(model,\n",
    "    X_train, Y_train,\n",
    "    X_valid, Y_valid,\n",
    "    epochs,\n",
    "    tensorboard_log_dir,\n",
    "    train_index\n",
    ")"
   ]
  },
  {
   "cell_type": "markdown",
   "id": "b58b3910",
   "metadata": {},
   "source": [
    "## 1.3. Evaluate Model"
   ]
  },
  {
   "cell_type": "code",
   "execution_count": 68,
   "id": "10709166",
   "metadata": {},
   "outputs": [],
   "source": [
    "def evaluate(model, X_test, Y_test):\n",
    "    evaluation_results = model.evaluate(X_test, Y_test)\n",
    "    \n",
    "    return evaluation_results"
   ]
  },
  {
   "cell_type": "code",
   "execution_count": 82,
   "id": "0c6996f3",
   "metadata": {},
   "outputs": [
    {
     "name": "stdout",
     "output_type": "stream",
     "text": [
      "25/25 [==============================] - 0s 4ms/step - loss: 0.7382 - root_mean_squared_error: 0.8592 - mean_absolute_error: 0.6757 - mean_squared_error: 0.7382 - mean_absolute_percentage_error: 524.6260\n"
     ]
    }
   ],
   "source": [
    "results_1 = evaluate(trained_model, X_test, Y_test)"
   ]
  },
  {
   "cell_type": "code",
   "execution_count": 83,
   "id": "f6bd960a",
   "metadata": {},
   "outputs": [
    {
     "data": {
      "text/plain": [
       "[0.7382197380065918,\n",
       " 0.8591971397399902,\n",
       " 0.67566978931427,\n",
       " 0.7382197380065918,\n",
       " 524.6260375976562]"
      ]
     },
     "execution_count": 83,
     "metadata": {},
     "output_type": "execute_result"
    }
   ],
   "source": [
    "results_1"
   ]
  },
  {
   "cell_type": "markdown",
   "id": "1e7b9655",
   "metadata": {},
   "source": [
    "## 1.4. Plot Predictions"
   ]
  },
  {
   "cell_type": "code",
   "execution_count": 84,
   "id": "586a35e1",
   "metadata": {},
   "outputs": [],
   "source": [
    "def get_predictions(m, X):\n",
    "    pred = m.predict(X)\n",
    "    return pred"
   ]
  },
  {
   "cell_type": "code",
   "execution_count": 85,
   "id": "0c883d37",
   "metadata": {},
   "outputs": [],
   "source": [
    "Y_pred = get_predictions(trained_model, X_test)"
   ]
  },
  {
   "cell_type": "code",
   "execution_count": 86,
   "id": "03288ba9",
   "metadata": {},
   "outputs": [],
   "source": [
    "def plot_predictions(X, Y, Y_pred):\n",
    "    \n",
    "    \n",
    "    df1 = pd.DataFrame({\n",
    "    't': range(1,len(X)+1),\n",
    "    'X': X,\n",
    "    })\n",
    "    \n",
    "    df1['Y'] = np.nan\n",
    "    df1['Y_pred'] = np.nan\n",
    "    df1.set_index('t', inplace=True)\n",
    "    \n",
    "    df2 = pd.DataFrame({\n",
    "        't': range(len(X),len(X)+len(Y)),\n",
    "        'Y': Y,\n",
    "        'Y_pred': Y_pred\n",
    "    })\n",
    "    df2['X'] = np.nan\n",
    "    df2.set_index('t', inplace=True)\n",
    "    \n",
    "    pred_df = pd.concat([df1,df2])\n",
    "    \n",
    "    pred_df.plot()\n",
    "    \n",
    "    return pred_df"
   ]
  },
  {
   "cell_type": "code",
   "execution_count": 87,
   "id": "1e31deaf",
   "metadata": {},
   "outputs": [
    {
     "data": {
      "image/png": "[encoded data removed]",
      "text/plain": [
       "<Figure size 1440x720 with 1 Axes>"
      ]
     },
     "metadata": {
      "needs_background": "light"
     },
     "output_type": "display_data"
    }
   ],
   "source": [
    "import matplotlib.pyplot as plt\n",
    "\n",
    "idx = 100\n",
    "plt.rcParams[\"figure.figsize\"] = (20, 10)\n",
    "\n",
    "df = plot_predictions(X_test.iloc[idx].values[:128], Y_test.iloc[idx].values, Y_pred[idx])"
   ]
  },
  {
   "cell_type": "code",
   "execution_count": 91,
   "id": "72007624",
   "metadata": {},
   "outputs": [
    {
     "data": {
      "image/png": "[encoded data removed]",
      "text/plain": [
       "<Figure size 1440x720 with 1 Axes>"
      ]
     },
     "metadata": {
      "needs_background": "light"
     },
     "output_type": "display_data"
    }
   ],
   "source": [
    "import matplotlib.pyplot as plt\n",
    "\n",
    "idx = 785\n",
    "plt.rcParams[\"figure.figsize\"] = (20, 10)\n",
    "\n",
    "df = plot_predictions(X_test.iloc[idx].values[:128], Y_test.iloc[idx].values, Y_pred[idx])"
   ]
  },
  {
   "cell_type": "markdown",
   "id": "f4349a0b",
   "metadata": {},
   "source": [
    "# 2. MLP with DWT and times series"
   ]
  },
  {
   "cell_type": "markdown",
   "id": "1af6b549",
   "metadata": {},
   "source": [
    "## 2.1. Generate training data"
   ]
  },
  {
   "cell_type": "code",
   "execution_count": 92,
   "id": "a63d55cd",
   "metadata": {},
   "outputs": [
    {
     "name": "stdout",
     "output_type": "stream",
     "text": [
      "2021-12-14 12:35:31,809 - kedro.io.data_catalog - INFO - Loading data from `ena-diario-parana` (CSVDataSet)...\n"
     ]
    }
   ],
   "source": [
    "# Training data generation parameters\n",
    "\n",
    "data         = catalog.load(\"ena-diario-parana\")\n",
    "input_width  = 128\n",
    "target_width = 15 \n",
    "wavelet      = 'db8'\n",
    "include_ts   = True\n",
    "shift        = 1\n",
    "split        = [.8, .1, .1]"
   ]
  },
  {
   "cell_type": "code",
   "execution_count": 93,
   "id": "dd9a547e",
   "metadata": {},
   "outputs": [
    {
     "name": "stdout",
     "output_type": "stream",
     "text": [
      "Generating windows...\n",
      "Spliting data into training, validation and testing datasets...\n",
      "Spliting model inputs and outputs (X and Y)\n",
      "Calculate average and standard deviation for training dataset...\n",
      "Training dataset average: 16144.77\n",
      "Training dataset standard deviation: 7689.77\n",
      "Scaling training, validation and testing datasets using z-score...\n",
      "Returning values with DWT transformation with db8 wavelet.\n",
      "CPU times: user 1min 8s, sys: 470 ms, total: 1min 8s\n",
      "Wall time: 1min 9s\n"
     ]
    }
   ],
   "source": [
    "%%time\n",
    "\n",
    "X_train, X_valid, X_test, Y_train, Y_valid, Y_test, train_avg, train_std = generate_training_data(\n",
    "    data, input_width, target_width, wavelet, include_ts, shift, split\n",
    ")"
   ]
  },
  {
   "cell_type": "markdown",
   "id": "ef8705f3",
   "metadata": {},
   "source": [
    "## 2.2. Compile model"
   ]
  },
  {
   "cell_type": "code",
   "execution_count": 102,
   "id": "5589195e",
   "metadata": {},
   "outputs": [],
   "source": [
    "input_dim = len(X_train.columns) # Number of points in X samples\n",
    "output_dim = 15 # Number of points in Y samples\n",
    "layer_1 = 800 # Number of neurons on first layer\n",
    "layer_2 = 600 # Number of neurons on second layer\n",
    "lr = 0.0000001 # MLP learning rate\n",
    "metrics = ['rmse','mae','mse','mape']"
   ]
  },
  {
   "cell_type": "code",
   "execution_count": 103,
   "id": "7bd38326",
   "metadata": {},
   "outputs": [],
   "source": [
    "model = create_model(input_dim, output_dim, layer_1, layer_2, lr, metrics)"
   ]
  },
  {
   "cell_type": "markdown",
   "id": "3bc682e5",
   "metadata": {},
   "source": [
    "# 2.3. Training the model"
   ]
  },
  {
   "cell_type": "code",
   "execution_count": 105,
   "id": "ed5965f1",
   "metadata": {},
   "outputs": [],
   "source": [
    "epochs = 60\n",
    "tensorboard_log_dir = '/usr/src/code/data/tensorboard'\n",
    "train_index = 'final_mlp_dwt_and_ts_60_epochs'"
   ]
  },
  {
   "cell_type": "code",
   "execution_count": 106,
   "id": "890c08af",
   "metadata": {},
   "outputs": [
    {
     "name": "stdout",
     "output_type": "stream",
     "text": [
      "Epoch 1/60\n",
      "197/197 [==============================] - 3s 13ms/step - loss: 1.6278 - root_mean_squared_error: 1.2758 - mean_absolute_error: 0.9474 - mean_squared_error: 1.6278 - mean_absolute_percentage_error: 656.4181 - val_loss: 1.6836 - val_root_mean_squared_error: 1.2975 - val_mean_absolute_error: 0.9912 - val_mean_squared_error: 1.6836 - val_mean_absolute_percentage_error: 423.4029\n",
      "Epoch 2/60\n",
      "197/197 [==============================] - 2s 12ms/step - loss: 1.5814 - root_mean_squared_error: 1.2575 - mean_absolute_error: 0.9341 - mean_squared_error: 1.5814 - mean_absolute_percentage_error: 640.8139 - val_loss: 1.6427 - val_root_mean_squared_error: 1.2817 - val_mean_absolute_error: 0.9792 - val_mean_squared_error: 1.6427 - val_mean_absolute_percentage_error: 415.0024\n",
      "Epoch 3/60\n",
      "197/197 [==============================] - 2s 12ms/step - loss: 1.5370 - root_mean_squared_error: 1.2398 - mean_absolute_error: 0.9211 - mean_squared_error: 1.5370 - mean_absolute_percentage_error: 626.8239 - val_loss: 1.6037 - val_root_mean_squared_error: 1.2664 - val_mean_absolute_error: 0.9676 - val_mean_squared_error: 1.6037 - val_mean_absolute_percentage_error: 406.9285\n",
      "Epoch 4/60\n",
      "197/197 [==============================] - 3s 15ms/step - loss: 1.4942 - root_mean_squared_error: 1.2224 - mean_absolute_error: 0.9084 - mean_squared_error: 1.4942 - mean_absolute_percentage_error: 612.4183 - val_loss: 1.5657 - val_root_mean_squared_error: 1.2513 - val_mean_absolute_error: 0.9562 - val_mean_squared_error: 1.5657 - val_mean_absolute_percentage_error: 398.9949\n",
      "Epoch 5/60\n",
      "197/197 [==============================] - 4s 19ms/step - loss: 1.4528 - root_mean_squared_error: 1.2053 - mean_absolute_error: 0.8960 - mean_squared_error: 1.4528 - mean_absolute_percentage_error: 598.7451 - val_loss: 1.5291 - val_root_mean_squared_error: 1.2365 - val_mean_absolute_error: 0.9450 - val_mean_squared_error: 1.5291 - val_mean_absolute_percentage_error: 391.2149\n",
      "Epoch 6/60\n",
      "197/197 [==============================] - 4s 18ms/step - loss: 1.4128 - root_mean_squared_error: 1.1886 - mean_absolute_error: 0.8837 - mean_squared_error: 1.4128 - mean_absolute_percentage_error: 585.5039 - val_loss: 1.4936 - val_root_mean_squared_error: 1.2221 - val_mean_absolute_error: 0.9340 - val_mean_squared_error: 1.4936 - val_mean_absolute_percentage_error: 383.5968\n",
      "Epoch 7/60\n",
      "197/197 [==============================] - 2s 12ms/step - loss: 1.3741 - root_mean_squared_error: 1.1722 - mean_absolute_error: 0.8718 - mean_squared_error: 1.3741 - mean_absolute_percentage_error: 571.9810 - val_loss: 1.4591 - val_root_mean_squared_error: 1.2079 - val_mean_absolute_error: 0.9232 - val_mean_squared_error: 1.4591 - val_mean_absolute_percentage_error: 376.1659\n",
      "Epoch 8/60\n",
      "197/197 [==============================] - 4s 18ms/step - loss: 1.3368 - root_mean_squared_error: 1.1562 - mean_absolute_error: 0.8601 - mean_squared_error: 1.3368 - mean_absolute_percentage_error: 559.0602 - val_loss: 1.4262 - val_root_mean_squared_error: 1.1942 - val_mean_absolute_error: 0.9127 - val_mean_squared_error: 1.4262 - val_mean_absolute_percentage_error: 369.0729\n",
      "Epoch 9/60\n",
      "197/197 [==============================] - 2s 12ms/step - loss: 1.3006 - root_mean_squared_error: 1.1404 - mean_absolute_error: 0.8486 - mean_squared_error: 1.3006 - mean_absolute_percentage_error: 546.5359 - val_loss: 1.3938 - val_root_mean_squared_error: 1.1806 - val_mean_absolute_error: 0.9023 - val_mean_squared_error: 1.3938 - val_mean_absolute_percentage_error: 362.0537\n",
      "Epoch 10/60\n",
      "197/197 [==============================] - 3s 13ms/step - loss: 1.2656 - root_mean_squared_error: 1.1250 - mean_absolute_error: 0.8372 - mean_squared_error: 1.2656 - mean_absolute_percentage_error: 534.5508 - val_loss: 1.3629 - val_root_mean_squared_error: 1.1674 - val_mean_absolute_error: 0.8922 - val_mean_squared_error: 1.3629 - val_mean_absolute_percentage_error: 355.2415\n",
      "Epoch 11/60\n",
      "197/197 [==============================] - 4s 22ms/step - loss: 1.2318 - root_mean_squared_error: 1.1099 - mean_absolute_error: 0.8260 - mean_squared_error: 1.2318 - mean_absolute_percentage_error: 522.2161 - val_loss: 1.3329 - val_root_mean_squared_error: 1.1545 - val_mean_absolute_error: 0.8822 - val_mean_squared_error: 1.3329 - val_mean_absolute_percentage_error: 348.5681\n",
      "Epoch 12/60\n",
      "197/197 [==============================] - 4s 22ms/step - loss: 1.1992 - root_mean_squared_error: 1.0951 - mean_absolute_error: 0.8151 - mean_squared_error: 1.1992 - mean_absolute_percentage_error: 509.4892 - val_loss: 1.3037 - val_root_mean_squared_error: 1.1418 - val_mean_absolute_error: 0.8724 - val_mean_squared_error: 1.3037 - val_mean_absolute_percentage_error: 342.0039\n",
      "Epoch 13/60\n",
      "197/197 [==============================] - 5s 23ms/step - loss: 1.1675 - root_mean_squared_error: 1.0805 - mean_absolute_error: 0.8044 - mean_squared_error: 1.1675 - mean_absolute_percentage_error: 498.3093 - val_loss: 1.2754 - val_root_mean_squared_error: 1.1294 - val_mean_absolute_error: 0.8627 - val_mean_squared_error: 1.2754 - val_mean_absolute_percentage_error: 335.5878\n",
      "Epoch 14/60\n",
      "197/197 [==============================] - 5s 25ms/step - loss: 1.1369 - root_mean_squared_error: 1.0663 - mean_absolute_error: 0.7938 - mean_squared_error: 1.1369 - mean_absolute_percentage_error: 487.9252 - val_loss: 1.2483 - val_root_mean_squared_error: 1.1173 - val_mean_absolute_error: 0.8533 - val_mean_squared_error: 1.2483 - val_mean_absolute_percentage_error: 329.3643\n",
      "Epoch 15/60\n",
      "197/197 [==============================] - 4s 20ms/step - loss: 1.1073 - root_mean_squared_error: 1.0523 - mean_absolute_error: 0.7834 - mean_squared_error: 1.1073 - mean_absolute_percentage_error: 477.5581 - val_loss: 1.2218 - val_root_mean_squared_error: 1.1054 - val_mean_absolute_error: 0.8440 - val_mean_squared_error: 1.2218 - val_mean_absolute_percentage_error: 323.3718\n",
      "Epoch 16/60\n",
      "197/197 [==============================] - 4s 20ms/step - loss: 1.0786 - root_mean_squared_error: 1.0386 - mean_absolute_error: 0.7732 - mean_squared_error: 1.0786 - mean_absolute_percentage_error: 466.1183 - val_loss: 1.1964 - val_root_mean_squared_error: 1.0938 - val_mean_absolute_error: 0.8349 - val_mean_squared_error: 1.1964 - val_mean_absolute_percentage_error: 317.6889\n",
      "Epoch 17/60\n",
      "197/197 [==============================] - 4s 20ms/step - loss: 1.0509 - root_mean_squared_error: 1.0251 - mean_absolute_error: 0.7632 - mean_squared_error: 1.0509 - mean_absolute_percentage_error: 455.6284 - val_loss: 1.1715 - val_root_mean_squared_error: 1.0824 - val_mean_absolute_error: 0.8259 - val_mean_squared_error: 1.1715 - val_mean_absolute_percentage_error: 312.0466\n",
      "Epoch 18/60\n",
      "197/197 [==============================] - 4s 21ms/step - loss: 1.0240 - root_mean_squared_error: 1.0119 - mean_absolute_error: 0.7532 - mean_squared_error: 1.0240 - mean_absolute_percentage_error: 445.6544 - val_loss: 1.1475 - val_root_mean_squared_error: 1.0712 - val_mean_absolute_error: 0.8171 - val_mean_squared_error: 1.1475 - val_mean_absolute_percentage_error: 306.5669\n",
      "Epoch 19/60\n",
      "197/197 [==============================] - 4s 20ms/step - loss: 0.9980 - root_mean_squared_error: 0.9990 - mean_absolute_error: 0.7436 - mean_squared_error: 0.9980 - mean_absolute_percentage_error: 435.8945 - val_loss: 1.1245 - val_root_mean_squared_error: 1.0604 - val_mean_absolute_error: 0.8085 - val_mean_squared_error: 1.1245 - val_mean_absolute_percentage_error: 301.2463\n",
      "Epoch 20/60\n",
      "197/197 [==============================] - 4s 18ms/step - loss: 0.9729 - root_mean_squared_error: 0.9863 - mean_absolute_error: 0.7340 - mean_squared_error: 0.9729 - mean_absolute_percentage_error: 426.8202 - val_loss: 1.1017 - val_root_mean_squared_error: 1.0496 - val_mean_absolute_error: 0.7998 - val_mean_squared_error: 1.1017 - val_mean_absolute_percentage_error: 295.9921\n",
      "Epoch 21/60\n",
      "197/197 [==============================] - 4s 21ms/step - loss: 0.9485 - root_mean_squared_error: 0.9739 - mean_absolute_error: 0.7247 - mean_squared_error: 0.9485 - mean_absolute_percentage_error: 418.3152 - val_loss: 1.0800 - val_root_mean_squared_error: 1.0392 - val_mean_absolute_error: 0.7915 - val_mean_squared_error: 1.0800 - val_mean_absolute_percentage_error: 291.0914\n",
      "Epoch 22/60\n"
     ]
    },
    {
     "name": "stdout",
     "output_type": "stream",
     "text": [
      "197/197 [==============================] - 4s 19ms/step - loss: 0.9250 - root_mean_squared_error: 0.9618 - mean_absolute_error: 0.7155 - mean_squared_error: 0.9250 - mean_absolute_percentage_error: 409.2232 - val_loss: 1.0590 - val_root_mean_squared_error: 1.0291 - val_mean_absolute_error: 0.7833 - val_mean_squared_error: 1.0590 - val_mean_absolute_percentage_error: 286.3316\n",
      "Epoch 23/60\n",
      "197/197 [==============================] - 3s 13ms/step - loss: 0.9021 - root_mean_squared_error: 0.9498 - mean_absolute_error: 0.7065 - mean_squared_error: 0.9021 - mean_absolute_percentage_error: 401.7300 - val_loss: 1.0385 - val_root_mean_squared_error: 1.0191 - val_mean_absolute_error: 0.7752 - val_mean_squared_error: 1.0385 - val_mean_absolute_percentage_error: 281.6664\n",
      "Epoch 24/60\n",
      "197/197 [==============================] - 2s 11ms/step - loss: 0.8800 - root_mean_squared_error: 0.9381 - mean_absolute_error: 0.6976 - mean_squared_error: 0.8800 - mean_absolute_percentage_error: 393.0879 - val_loss: 1.0187 - val_root_mean_squared_error: 1.0093 - val_mean_absolute_error: 0.7673 - val_mean_squared_error: 1.0187 - val_mean_absolute_percentage_error: 277.2389\n",
      "Epoch 25/60\n",
      "197/197 [==============================] - 2s 12ms/step - loss: 0.8586 - root_mean_squared_error: 0.9266 - mean_absolute_error: 0.6888 - mean_squared_error: 0.8586 - mean_absolute_percentage_error: 385.3744 - val_loss: 0.9997 - val_root_mean_squared_error: 0.9998 - val_mean_absolute_error: 0.7596 - val_mean_squared_error: 0.9997 - val_mean_absolute_percentage_error: 272.9720\n",
      "Epoch 26/60\n",
      "197/197 [==============================] - 3s 14ms/step - loss: 0.8379 - root_mean_squared_error: 0.9154 - mean_absolute_error: 0.6803 - mean_squared_error: 0.8379 - mean_absolute_percentage_error: 378.3488 - val_loss: 0.9809 - val_root_mean_squared_error: 0.9904 - val_mean_absolute_error: 0.7518 - val_mean_squared_error: 0.9809 - val_mean_absolute_percentage_error: 268.8022\n",
      "Epoch 27/60\n",
      "197/197 [==============================] - 3s 15ms/step - loss: 0.8179 - root_mean_squared_error: 0.9044 - mean_absolute_error: 0.6718 - mean_squared_error: 0.8179 - mean_absolute_percentage_error: 371.0399 - val_loss: 0.9629 - val_root_mean_squared_error: 0.9813 - val_mean_absolute_error: 0.7443 - val_mean_squared_error: 0.9629 - val_mean_absolute_percentage_error: 264.8081\n",
      "Epoch 28/60\n",
      "197/197 [==============================] - 2s 12ms/step - loss: 0.7986 - root_mean_squared_error: 0.8936 - mean_absolute_error: 0.6636 - mean_squared_error: 0.7986 - mean_absolute_percentage_error: 364.4520 - val_loss: 0.9456 - val_root_mean_squared_error: 0.9724 - val_mean_absolute_error: 0.7370 - val_mean_squared_error: 0.9456 - val_mean_absolute_percentage_error: 261.0709\n",
      "Epoch 29/60\n",
      "197/197 [==============================] - 3s 13ms/step - loss: 0.7799 - root_mean_squared_error: 0.8831 - mean_absolute_error: 0.6554 - mean_squared_error: 0.7799 - mean_absolute_percentage_error: 358.5101 - val_loss: 0.9288 - val_root_mean_squared_error: 0.9637 - val_mean_absolute_error: 0.7298 - val_mean_squared_error: 0.9288 - val_mean_absolute_percentage_error: 257.4280\n",
      "Epoch 30/60\n",
      "197/197 [==============================] - 2s 11ms/step - loss: 0.7618 - root_mean_squared_error: 0.8728 - mean_absolute_error: 0.6475 - mean_squared_error: 0.7618 - mean_absolute_percentage_error: 351.9752 - val_loss: 0.9127 - val_root_mean_squared_error: 0.9553 - val_mean_absolute_error: 0.7228 - val_mean_squared_error: 0.9127 - val_mean_absolute_percentage_error: 253.9273\n",
      "Epoch 31/60\n",
      "197/197 [==============================] - 2s 12ms/step - loss: 0.7444 - root_mean_squared_error: 0.8628 - mean_absolute_error: 0.6397 - mean_squared_error: 0.7444 - mean_absolute_percentage_error: 346.1485 - val_loss: 0.8968 - val_root_mean_squared_error: 0.9470 - val_mean_absolute_error: 0.7158 - val_mean_squared_error: 0.8968 - val_mean_absolute_percentage_error: 250.5866\n",
      "Epoch 32/60\n",
      "197/197 [==============================] - 2s 12ms/step - loss: 0.7275 - root_mean_squared_error: 0.8529 - mean_absolute_error: 0.6320 - mean_squared_error: 0.7275 - mean_absolute_percentage_error: 340.4940 - val_loss: 0.8817 - val_root_mean_squared_error: 0.9390 - val_mean_absolute_error: 0.7091 - val_mean_squared_error: 0.8817 - val_mean_absolute_percentage_error: 247.4331\n",
      "Epoch 33/60\n",
      "197/197 [==============================] - 2s 12ms/step - loss: 0.7111 - root_mean_squared_error: 0.8433 - mean_absolute_error: 0.6246 - mean_squared_error: 0.7111 - mean_absolute_percentage_error: 335.2043 - val_loss: 0.8670 - val_root_mean_squared_error: 0.9311 - val_mean_absolute_error: 0.7024 - val_mean_squared_error: 0.8670 - val_mean_absolute_percentage_error: 244.3867\n",
      "Epoch 34/60\n",
      "197/197 [==============================] - 3s 14ms/step - loss: 0.6954 - root_mean_squared_error: 0.8339 - mean_absolute_error: 0.6173 - mean_squared_error: 0.6954 - mean_absolute_percentage_error: 330.7016 - val_loss: 0.8527 - val_root_mean_squared_error: 0.9234 - val_mean_absolute_error: 0.6959 - val_mean_squared_error: 0.8527 - val_mean_absolute_percentage_error: 241.5464\n",
      "Epoch 35/60\n",
      "197/197 [==============================] - 2s 12ms/step - loss: 0.6801 - root_mean_squared_error: 0.8247 - mean_absolute_error: 0.6101 - mean_squared_error: 0.6801 - mean_absolute_percentage_error: 326.0715 - val_loss: 0.8390 - val_root_mean_squared_error: 0.9160 - val_mean_absolute_error: 0.6896 - val_mean_squared_error: 0.8390 - val_mean_absolute_percentage_error: 238.8315\n",
      "Epoch 36/60\n",
      "197/197 [==============================] - 2s 12ms/step - loss: 0.6654 - root_mean_squared_error: 0.8157 - mean_absolute_error: 0.6031 - mean_squared_error: 0.6654 - mean_absolute_percentage_error: 322.1739 - val_loss: 0.8257 - val_root_mean_squared_error: 0.9087 - val_mean_absolute_error: 0.6834 - val_mean_squared_error: 0.8257 - val_mean_absolute_percentage_error: 236.2908\n",
      "Epoch 37/60\n",
      "197/197 [==============================] - 2s 10ms/step - loss: 0.6512 - root_mean_squared_error: 0.8070 - mean_absolute_error: 0.5964 - mean_squared_error: 0.6512 - mean_absolute_percentage_error: 317.4796 - val_loss: 0.8129 - val_root_mean_squared_error: 0.9016 - val_mean_absolute_error: 0.6774 - val_mean_squared_error: 0.8129 - val_mean_absolute_percentage_error: 233.9443\n",
      "Epoch 38/60\n",
      "197/197 [==============================] - 2s 10ms/step - loss: 0.6376 - root_mean_squared_error: 0.7985 - mean_absolute_error: 0.5898 - mean_squared_error: 0.6376 - mean_absolute_percentage_error: 314.2171 - val_loss: 0.8007 - val_root_mean_squared_error: 0.8948 - val_mean_absolute_error: 0.6716 - val_mean_squared_error: 0.8007 - val_mean_absolute_percentage_error: 231.8056\n",
      "Epoch 39/60\n",
      "197/197 [==============================] - 2s 11ms/step - loss: 0.6243 - root_mean_squared_error: 0.7902 - mean_absolute_error: 0.5833 - mean_squared_error: 0.6243 - mean_absolute_percentage_error: 311.0530 - val_loss: 0.7888 - val_root_mean_squared_error: 0.8881 - val_mean_absolute_error: 0.6659 - val_mean_squared_error: 0.7888 - val_mean_absolute_percentage_error: 229.9584\n",
      "Epoch 40/60\n",
      "197/197 [==============================] - 3s 14ms/step - loss: 0.6116 - root_mean_squared_error: 0.7820 - mean_absolute_error: 0.5770 - mean_squared_error: 0.6116 - mean_absolute_percentage_error: 308.0763 - val_loss: 0.7773 - val_root_mean_squared_error: 0.8816 - val_mean_absolute_error: 0.6603 - val_mean_squared_error: 0.7773 - val_mean_absolute_percentage_error: 228.3192\n",
      "Epoch 41/60\n",
      "197/197 [==============================] - 3s 17ms/step - loss: 0.5993 - root_mean_squared_error: 0.7742 - mean_absolute_error: 0.5709 - mean_squared_error: 0.5993 - mean_absolute_percentage_error: 305.2422 - val_loss: 0.7662 - val_root_mean_squared_error: 0.8753 - val_mean_absolute_error: 0.6550 - val_mean_squared_error: 0.7662 - val_mean_absolute_percentage_error: 226.8383\n",
      "Epoch 42/60\n",
      "197/197 [==============================] - 3s 17ms/step - loss: 0.5874 - root_mean_squared_error: 0.7664 - mean_absolute_error: 0.5650 - mean_squared_error: 0.5874 - mean_absolute_percentage_error: 302.5385 - val_loss: 0.7555 - val_root_mean_squared_error: 0.8692 - val_mean_absolute_error: 0.6498 - val_mean_squared_error: 0.7555 - val_mean_absolute_percentage_error: 225.4957\n",
      "Epoch 43/60\n"
     ]
    },
    {
     "name": "stdout",
     "output_type": "stream",
     "text": [
      "197/197 [==============================] - 2s 12ms/step - loss: 0.5760 - root_mean_squared_error: 0.7589 - mean_absolute_error: 0.5591 - mean_squared_error: 0.5760 - mean_absolute_percentage_error: 300.7923 - val_loss: 0.7452 - val_root_mean_squared_error: 0.8633 - val_mean_absolute_error: 0.6448 - val_mean_squared_error: 0.7452 - val_mean_absolute_percentage_error: 224.3455\n",
      "Epoch 44/60\n",
      "197/197 [==============================] - 2s 11ms/step - loss: 0.5649 - root_mean_squared_error: 0.7516 - mean_absolute_error: 0.5535 - mean_squared_error: 0.5649 - mean_absolute_percentage_error: 299.2834 - val_loss: 0.7352 - val_root_mean_squared_error: 0.8574 - val_mean_absolute_error: 0.6398 - val_mean_squared_error: 0.7352 - val_mean_absolute_percentage_error: 223.4884\n",
      "Epoch 45/60\n",
      "197/197 [==============================] - 2s 10ms/step - loss: 0.5543 - root_mean_squared_error: 0.7445 - mean_absolute_error: 0.5481 - mean_squared_error: 0.5543 - mean_absolute_percentage_error: 298.0612 - val_loss: 0.7256 - val_root_mean_squared_error: 0.8518 - val_mean_absolute_error: 0.6351 - val_mean_squared_error: 0.7256 - val_mean_absolute_percentage_error: 222.7897\n",
      "Epoch 46/60\n",
      "197/197 [==============================] - 2s 11ms/step - loss: 0.5440 - root_mean_squared_error: 0.7376 - mean_absolute_error: 0.5428 - mean_squared_error: 0.5440 - mean_absolute_percentage_error: 297.7145 - val_loss: 0.7164 - val_root_mean_squared_error: 0.8464 - val_mean_absolute_error: 0.6304 - val_mean_squared_error: 0.7164 - val_mean_absolute_percentage_error: 222.2082\n",
      "Epoch 47/60\n",
      "197/197 [==============================] - 2s 12ms/step - loss: 0.5341 - root_mean_squared_error: 0.7308 - mean_absolute_error: 0.5376 - mean_squared_error: 0.5341 - mean_absolute_percentage_error: 297.2105 - val_loss: 0.7073 - val_root_mean_squared_error: 0.8410 - val_mean_absolute_error: 0.6258 - val_mean_squared_error: 0.7073 - val_mean_absolute_percentage_error: 221.7934\n",
      "Epoch 48/60\n",
      "197/197 [==============================] - 3s 15ms/step - loss: 0.5246 - root_mean_squared_error: 0.7243 - mean_absolute_error: 0.5326 - mean_squared_error: 0.5246 - mean_absolute_percentage_error: 297.2446 - val_loss: 0.6988 - val_root_mean_squared_error: 0.8359 - val_mean_absolute_error: 0.6215 - val_mean_squared_error: 0.6988 - val_mean_absolute_percentage_error: 221.3987\n",
      "Epoch 49/60\n",
      "197/197 [==============================] - 3s 14ms/step - loss: 0.5153 - root_mean_squared_error: 0.7179 - mean_absolute_error: 0.5277 - mean_squared_error: 0.5153 - mean_absolute_percentage_error: 296.8870 - val_loss: 0.6906 - val_root_mean_squared_error: 0.8310 - val_mean_absolute_error: 0.6173 - val_mean_squared_error: 0.6906 - val_mean_absolute_percentage_error: 221.0840\n",
      "Epoch 50/60\n",
      "197/197 [==============================] - 2s 11ms/step - loss: 0.5065 - root_mean_squared_error: 0.7117 - mean_absolute_error: 0.5230 - mean_squared_error: 0.5065 - mean_absolute_percentage_error: 296.7264 - val_loss: 0.6826 - val_root_mean_squared_error: 0.8262 - val_mean_absolute_error: 0.6131 - val_mean_squared_error: 0.6826 - val_mean_absolute_percentage_error: 220.8634\n",
      "Epoch 51/60\n",
      "197/197 [==============================] - 2s 10ms/step - loss: 0.4979 - root_mean_squared_error: 0.7056 - mean_absolute_error: 0.5185 - mean_squared_error: 0.4979 - mean_absolute_percentage_error: 297.0858 - val_loss: 0.6749 - val_root_mean_squared_error: 0.8215 - val_mean_absolute_error: 0.6091 - val_mean_squared_error: 0.6749 - val_mean_absolute_percentage_error: 220.7172\n",
      "Epoch 52/60\n",
      "197/197 [==============================] - 2s 10ms/step - loss: 0.4896 - root_mean_squared_error: 0.6997 - mean_absolute_error: 0.5141 - mean_squared_error: 0.4896 - mean_absolute_percentage_error: 297.1220 - val_loss: 0.6675 - val_root_mean_squared_error: 0.8170 - val_mean_absolute_error: 0.6052 - val_mean_squared_error: 0.6675 - val_mean_absolute_percentage_error: 220.6366\n",
      "Epoch 53/60\n",
      "197/197 [==============================] - 2s 11ms/step - loss: 0.4817 - root_mean_squared_error: 0.6940 - mean_absolute_error: 0.5097 - mean_squared_error: 0.4817 - mean_absolute_percentage_error: 297.3792 - val_loss: 0.6603 - val_root_mean_squared_error: 0.8126 - val_mean_absolute_error: 0.6014 - val_mean_squared_error: 0.6603 - val_mean_absolute_percentage_error: 220.6213\n",
      "Epoch 54/60\n",
      "197/197 [==============================] - 2s 11ms/step - loss: 0.4739 - root_mean_squared_error: 0.6884 - mean_absolute_error: 0.5055 - mean_squared_error: 0.4739 - mean_absolute_percentage_error: 298.1506 - val_loss: 0.6534 - val_root_mean_squared_error: 0.8083 - val_mean_absolute_error: 0.5977 - val_mean_squared_error: 0.6534 - val_mean_absolute_percentage_error: 220.6857\n",
      "Epoch 55/60\n",
      "197/197 [==============================] - 2s 11ms/step - loss: 0.4665 - root_mean_squared_error: 0.6830 - mean_absolute_error: 0.5014 - mean_squared_error: 0.4665 - mean_absolute_percentage_error: 298.9486 - val_loss: 0.6467 - val_root_mean_squared_error: 0.8042 - val_mean_absolute_error: 0.5941 - val_mean_squared_error: 0.6467 - val_mean_absolute_percentage_error: 220.9339\n",
      "Epoch 56/60\n",
      "197/197 [==============================] - 2s 11ms/step - loss: 0.4593 - root_mean_squared_error: 0.6777 - mean_absolute_error: 0.4975 - mean_squared_error: 0.4593 - mean_absolute_percentage_error: 299.4147 - val_loss: 0.6403 - val_root_mean_squared_error: 0.8002 - val_mean_absolute_error: 0.5907 - val_mean_squared_error: 0.6403 - val_mean_absolute_percentage_error: 221.3267\n",
      "Epoch 57/60\n",
      "197/197 [==============================] - 2s 11ms/step - loss: 0.4524 - root_mean_squared_error: 0.6726 - mean_absolute_error: 0.4937 - mean_squared_error: 0.4524 - mean_absolute_percentage_error: 300.3965 - val_loss: 0.6341 - val_root_mean_squared_error: 0.7963 - val_mean_absolute_error: 0.5873 - val_mean_squared_error: 0.6341 - val_mean_absolute_percentage_error: 221.7377\n",
      "Epoch 58/60\n",
      "197/197 [==============================] - 2s 11ms/step - loss: 0.4457 - root_mean_squared_error: 0.6676 - mean_absolute_error: 0.4900 - mean_squared_error: 0.4457 - mean_absolute_percentage_error: 301.0018 - val_loss: 0.6282 - val_root_mean_squared_error: 0.7926 - val_mean_absolute_error: 0.5841 - val_mean_squared_error: 0.6282 - val_mean_absolute_percentage_error: 222.1583\n",
      "Epoch 59/60\n",
      "197/197 [==============================] - 2s 11ms/step - loss: 0.4392 - root_mean_squared_error: 0.6628 - mean_absolute_error: 0.4864 - mean_squared_error: 0.4392 - mean_absolute_percentage_error: 301.6068 - val_loss: 0.6223 - val_root_mean_squared_error: 0.7889 - val_mean_absolute_error: 0.5809 - val_mean_squared_error: 0.6223 - val_mean_absolute_percentage_error: 222.6996\n",
      "Epoch 60/60\n",
      "197/197 [==============================] - 2s 11ms/step - loss: 0.4330 - root_mean_squared_error: 0.6580 - mean_absolute_error: 0.4829 - mean_squared_error: 0.4330 - mean_absolute_percentage_error: 302.6945 - val_loss: 0.6168 - val_root_mean_squared_error: 0.7854 - val_mean_absolute_error: 0.5778 - val_mean_squared_error: 0.6168 - val_mean_absolute_percentage_error: 223.3574\n",
      "CPU times: user 4min 11s, sys: 19.8 s, total: 4min 31s\n",
      "Wall time: 2min 50s\n"
     ]
    }
   ],
   "source": [
    "%%time\n",
    "\n",
    "trained_model, history = train_model(model,\n",
    "    X_train, Y_train,\n",
    "    X_valid, Y_valid,\n",
    "    epochs,\n",
    "    tensorboard_log_dir,\n",
    "    train_index\n",
    ")"
   ]
  },
  {
   "cell_type": "markdown",
   "id": "0a6d4b2e",
   "metadata": {},
   "source": [
    "# 2.4. Evaluate the model"
   ]
  },
  {
   "cell_type": "code",
   "execution_count": null,
   "id": "229265a2",
   "metadata": {},
   "outputs": [],
   "source": [
    "results_2 = evaluate(trained_model, X_test, Y_test)"
   ]
  },
  {
   "cell_type": "markdown",
   "id": "f318ab10",
   "metadata": {},
   "source": [
    "## 2.5. Plot predicitions"
   ]
  },
  {
   "cell_type": "code",
   "execution_count": null,
   "id": "6f364e87",
   "metadata": {},
   "outputs": [],
   "source": [
    "import matplotlib.pyplot as plt\n",
    "\n",
    "idx = 100\n",
    "plt.rcParams[\"figure.figsize\"] = (20, 10)\n",
    "\n",
    "df = plot_predictions(X_test.iloc[idx].values[:128], Y_test.iloc[idx].values, Y_pred[idx])"
   ]
  }
 ],
 "metadata": {
  "kernelspec": {
   "display_name": "enaforecast",
   "language": "python",
   "name": "python3"
  },
  "language_info": {
   "codemirror_mode": {
    "name": "ipython",
    "version": 3
   },
   "file_extension": ".py",
   "mimetype": "text/x-python",
   "name": "python",
   "nbconvert_exporter": "python",
   "pygments_lexer": "ipython3",
   "version": "3.8.5"
  }
 },
 "nbformat": 4,
 "nbformat_minor": 5
}
